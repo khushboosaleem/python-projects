{
 "cells": [
  {
   "cell_type": "markdown",
   "id": "8b80f302",
   "metadata": {},
   "source": [
    "## Create quiz app by using python"
   ]
  },
  {
   "cell_type": "code",
   "execution_count": 1,
   "id": "9c64101e",
   "metadata": {},
   "outputs": [],
   "source": [
    "questions =  [\n",
    "    \n",
    "    {\n",
    "     \"Q.no\": \"01\",\n",
    "      \"question\": \"What is the main difference between a list and a tuple?\",\n",
    "      \"options\" : [\"A list is ordered, while a tuple is unordered\",\n",
    "                   \"A list can be modified, while a tuple cannot be modified once created.\",\n",
    "                   \"A list can store multiple data types, while a tuple can only store one data type.\",\n",
    "                   \"There is no difference between a list and a tuple.\"],\n",
    "      \"answer\" : \"A list can be modified, while a tuple cannot be modified once created.\"\n",
    "        \n",
    "    },\n",
    "    \n",
    "    {\n",
    "     \"Q.no\": \"02\",\n",
    "      \"question\": \"What symbol is used to separate a dictionary's key-value pairs?\",\n",
    "      \"options\" : [\",\" , \":\",\"; \",\"=\"],\n",
    "      \"answer\" : \":\"\n",
    "        \n",
    "    },\n",
    "    \n",
    "    {\n",
    "     \"Q.no\": \"03\",\n",
    "      \"question\": \"Which of the following options shows the correct syntax to create an empty list in Python?\",\n",
    "      \"options\" : [\"[]\",\"{}\",\"()\",\"None\"],\n",
    "      \"answer\" : \"[]\"\n",
    "        \n",
    "    },\n",
    "    \n",
    "    {\n",
    "     \"Q.no\": \"04\",\n",
    "      \"question\": \"Which operator is used for exponentiation in Python?\",\n",
    "      \"options\" : [\"*\",\"**\",\"%\",\"+\"],\n",
    "      \"answer\" : \"**\"\n",
    "        \n",
    "    },\n",
    "    \n",
    "    {\n",
    "     \"Q.no\": \"05\",\n",
    "      \"question\": \"How are key-value pairs represented in Python dictionaries?\",\n",
    "      \"options\" : [\"(key, value)\",\"[key: value]\",\"{key, value}\",\"{key: value}\"],\n",
    "      \"answer\" : \"{key: value}\"\n",
    "        \n",
    "    }\n",
    "]"
   ]
  },
  {
   "cell_type": "code",
   "execution_count": 2,
   "id": "80104129",
   "metadata": {},
   "outputs": [
    {
     "name": "stdout",
     "output_type": "stream",
     "text": [
      "[{'Q.no': '01', 'question': 'What is the main difference between a list and a tuple?', 'options': ['A list is ordered, while a tuple is unordered', 'A list can be modified, while a tuple cannot be modified once created.', 'A list can store multiple data types, while a tuple can only store one data type.', 'There is no difference between a list and a tuple.'], 'answer': 'A list can be modified, while a tuple cannot be modified once created.'}, {'Q.no': '02', 'question': \"What symbol is used to separate a dictionary's key-value pairs?\", 'options': [',', ':', '; ', '='], 'answer': ':'}, {'Q.no': '03', 'question': 'Which of the following options shows the correct syntax to create an empty list in Python?', 'options': ['[]', '{}', '()', 'None'], 'answer': '[]'}, {'Q.no': '04', 'question': 'Which operator is used for exponentiation in Python?', 'options': ['*', '**', '%', '+'], 'answer': '**'}, {'Q.no': '05', 'question': 'How are key-value pairs represented in Python dictionaries?', 'options': ['(key, value)', '[key: value]', '{key, value}', '{key: value}'], 'answer': '{key: value}'}]\n"
     ]
    }
   ],
   "source": [
    "print(questions)"
   ]
  },
  {
   "cell_type": "code",
   "execution_count": 3,
   "id": "ee81ce3d",
   "metadata": {},
   "outputs": [
    {
     "name": "stdout",
     "output_type": "stream",
     "text": [
      "01, What is the main difference between a list and a tuple?\n",
      "A list is ordered, while a tuple is unordered\n",
      "A list can be modified, while a tuple cannot be modified once created.\n",
      "A list can store multiple data types, while a tuple can only store one data type.\n",
      "There is no difference between a list and a tuple.A list can be modified, while a tuple cannot be modified once created.\n",
      "02, What symbol is used to separate a dictionary's key-value pairs?\n",
      ",\n",
      ":\n",
      "; \n",
      "=:\n",
      "03, Which of the following options shows the correct syntax to create an empty list in Python?\n",
      "[]\n",
      "{}\n",
      "()\n",
      "None[]\n",
      "04, Which operator is used for exponentiation in Python?\n",
      "*\n",
      "**\n",
      "%\n",
      "+**\n",
      "05, How are key-value pairs represented in Python dictionaries?\n",
      "(key, value)\n",
      "[key: value]\n",
      "{key, value}\n",
      "{key: value}{key: value}\n",
      "--------------------------------------------------\n",
      "your score is :  5\n"
     ]
    }
   ],
   "source": [
    "# check the score by using for loop and condition \n",
    "\n",
    "Score = 0\n",
    "\n",
    "for quiz in questions:\n",
    "    data = (quiz[\"Q.no\"] + \",\" + \" \" + quiz[\"question\"] + \"\\n\" + quiz[\"options\"][0] + \"\\n\" + quiz[\"options\"][1] + \"\\n\" + \n",
    "           quiz[\"options\"][2] + \"\\n\" + quiz[\"options\"][3])\n",
    "    \n",
    "    # take the input from the data variable and store the answer variable \n",
    "    answer = input(data)\n",
    "    \n",
    "    # make if condition to get the score \n",
    "    if answer == quiz[\"answer\"]:\n",
    "        Score += 1\n",
    "print(\"--------------------------------------------------\")       \n",
    "print(\"your score is : \" , str(Score))"
   ]
  },
  {
   "cell_type": "code",
   "execution_count": null,
   "id": "fbdae4e3",
   "metadata": {},
   "outputs": [],
   "source": []
  }
 ],
 "metadata": {
  "kernelspec": {
   "display_name": "Python 3 (ipykernel)",
   "language": "python",
   "name": "python3"
  },
  "language_info": {
   "codemirror_mode": {
    "name": "ipython",
    "version": 3
   },
   "file_extension": ".py",
   "mimetype": "text/x-python",
   "name": "python",
   "nbconvert_exporter": "python",
   "pygments_lexer": "ipython3",
   "version": "3.9.12"
  }
 },
 "nbformat": 4,
 "nbformat_minor": 5
}
