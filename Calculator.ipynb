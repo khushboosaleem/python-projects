{
 "cells": [
  {
   "cell_type": "markdown",
   "id": "36839904",
   "metadata": {},
   "source": [
    "# ***Make a calculator by myself***"
   ]
  },
  {
   "cell_type": "markdown",
   "id": "a9fdc328",
   "metadata": {},
   "source": [
    "## Enter the \"+\" operator "
   ]
  },
  {
   "cell_type": "code",
   "execution_count": 1,
   "id": "8d3b846a",
   "metadata": {},
   "outputs": [
    {
     "name": "stdout",
     "output_type": "stream",
     "text": [
      "Enter your 1st value : 10\n",
      "Enter your 2nd value : 30\n",
      "Enter your operator +,-,*,/ : +\n",
      "Add the both value :  40\n"
     ]
    }
   ],
   "source": [
    "## take a input by user\n",
    "\n",
    "val1 = int(input(\"Enter your 1st value : \")) \n",
    "val2 = int(input(\"Enter your 2nd value : \"))         \n",
    "operater = input(\"Enter your operator +,-,*,/ : \")\n",
    "\n",
    "\n",
    "# make if elif else condition:\n",
    "\n",
    "if operater == \"+\":\n",
    "    print(\"Add the both value : \", val1 + val2)\n",
    "    \n",
    "elif operater == \"-\":\n",
    "    print(\"sub the both value : \", val1 - val2)\n",
    "    \n",
    "elif operater == \"*\":\n",
    "    print(\"multiply the both value : \", val1 * val2)\n",
    "\n",
    "elif operater == \"/\":\n",
    "    print(\"divide the both value : \", val1 / val2)\n",
    "    \n",
    "else:\n",
    "    print(\"invalid operator...\")\n",
    "\n"
   ]
  },
  {
   "cell_type": "markdown",
   "id": "40960c2f",
   "metadata": {},
   "source": [
    "## Enter the \"-\" operator \n"
   ]
  },
  {
   "cell_type": "code",
   "execution_count": 2,
   "id": "224ba96b",
   "metadata": {},
   "outputs": [
    {
     "name": "stdout",
     "output_type": "stream",
     "text": [
      "Enter your 1st value : 40\n",
      "Enter your 2nd value : 30\n",
      "Enter your operator +,-,*,/ : -\n",
      "sub the both value :  10\n"
     ]
    }
   ],
   "source": [
    "## take a input by user\n",
    "\n",
    "val1 = int(input(\"Enter your 1st value : \")) \n",
    "val2 = int(input(\"Enter your 2nd value : \")) \n",
    "operater = input(\"Enter your operator +,-,*,/ : \")\n",
    "\n",
    "\n",
    "# make if elif else condition:\n",
    "\n",
    "if operater == \"+\":\n",
    "    print(\"Add the both value : \", val1 + val2)\n",
    "    \n",
    "elif operater == \"-\":\n",
    "    print(\"sub the both value : \", val1 - val2)\n",
    "    \n",
    "elif operater == \"*\":\n",
    "    print(\"multiply the both value : \", val1 * val2)\n",
    "\n",
    "elif operater == \"/\":\n",
    "    print(\"divide the both value : \", val1 / val2)\n",
    "    \n",
    "else:\n",
    "    print(\"invalid operator...\")\n",
    "\n"
   ]
  },
  {
   "cell_type": "markdown",
   "id": "7da71c74",
   "metadata": {},
   "source": [
    "## Enter the \"*\" operator \n"
   ]
  },
  {
   "cell_type": "code",
   "execution_count": 3,
   "id": "a1e09963",
   "metadata": {},
   "outputs": [
    {
     "name": "stdout",
     "output_type": "stream",
     "text": [
      "Enter your 1st value : 2\n",
      "Enter your 2nd value : 15\n",
      "Enter your operator +,-,*,/ : *\n",
      "multiply the both value :  30\n"
     ]
    }
   ],
   "source": [
    "## take a input by user\n",
    "\n",
    "val1 = int(input(\"Enter your 1st value : \")) \n",
    "val2 = int(input(\"Enter your 2nd value : \")) \n",
    "operater = input(\"Enter your operator +,-,*,/ : \")\n",
    "\n",
    "\n",
    "# make if elif else condition:\n",
    "\n",
    "if operater == \"+\":\n",
    "    print(\"Add the both value : \", val1 + val2)\n",
    "    \n",
    "elif operater == \"-\":\n",
    "    print(\"sub the both value : \", val1 - val2)\n",
    "    \n",
    "elif operater == \"*\":\n",
    "    print(\"multiply the both value : \", val1 * val2)\n",
    "\n",
    "elif operater == \"/\":\n",
    "    print(\"divide the both value : \", val1 / val2)\n",
    "    \n",
    "else:\n",
    "    print(\"invalid operator...\")\n",
    "\n"
   ]
  },
  {
   "cell_type": "markdown",
   "id": "990b55c7",
   "metadata": {},
   "source": [
    "## Enter the \"/\" operator \n"
   ]
  },
  {
   "cell_type": "code",
   "execution_count": 5,
   "id": "2ceeae77",
   "metadata": {},
   "outputs": [
    {
     "name": "stdout",
     "output_type": "stream",
     "text": [
      "Enter your 1st value : 20\n",
      "Enter your 2nd value : 2\n",
      "Enter your operator +,-,*,/ : /\n",
      "divide the both value :  10.0\n"
     ]
    }
   ],
   "source": [
    "## take a input by user\n",
    "\n",
    "val1 = int(input(\"Enter your 1st value : \")) \n",
    "val2 = int(input(\"Enter your 2nd value : \")) \n",
    "operater = input(\"Enter your operator +,-,*,/ : \")\n",
    "\n",
    "\n",
    "# make if elif else condition:\n",
    "\n",
    "if operater == \"+\":\n",
    "    print(\"Add the both value : \", val1 + val2)\n",
    "    \n",
    "elif operater == \"-\":\n",
    "    print(\"sub the both value : \", val1 - val2)\n",
    "    \n",
    "elif operater == \"*\":\n",
    "    print(\"multiply the both value : \", val1 * val2)\n",
    "\n",
    "elif operater == \"/\":\n",
    "    print(\"divide the both value : \", val1 / val2)\n",
    "    \n",
    "else:\n",
    "    print(\"invalid operator...\")\n",
    "\n"
   ]
  },
  {
   "cell_type": "code",
   "execution_count": null,
   "id": "812fc4f0",
   "metadata": {},
   "outputs": [],
   "source": []
  }
 ],
 "metadata": {
  "kernelspec": {
   "display_name": "Python 3 (ipykernel)",
   "language": "python",
   "name": "python3"
  },
  "language_info": {
   "codemirror_mode": {
    "name": "ipython",
    "version": 3
   },
   "file_extension": ".py",
   "mimetype": "text/x-python",
   "name": "python",
   "nbconvert_exporter": "python",
   "pygments_lexer": "ipython3",
   "version": "3.9.12"
  }
 },
 "nbformat": 4,
 "nbformat_minor": 5
}
